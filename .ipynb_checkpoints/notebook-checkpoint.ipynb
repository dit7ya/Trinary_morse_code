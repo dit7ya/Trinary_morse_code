{
 "cells": [
  {
   "cell_type": "markdown",
   "metadata": {},
   "source": [
    "# Morse Code based text encoder and decoder\n",
    "\n",
    "\n",
    "## Morse code is not binary\n",
    "\n",
    "We know that morse code is a trinary encode.It's not a binary method as it has to taken account of the diffence of gap between each letter and the distance between  each sentence in addition to the short and long signal.\n",
    "\n",
    "So, we can encode any text to a strings of trinary digit according to morse code.\n",
    "\n",
    "\n",
    "### Rules ##\n",
    "\n",
    "* We replace the dot with 1 and dash with 2\n",
    "\n",
    "* Between two character we have a 0.\n",
    "\n",
    "* We replace the space between two character by a 0 and treat space itself as a character. In that way, we have three zeros(000) between two words.\n",
    "\n",
    "\n",
    "\n"
   ]
  },
  {
   "cell_type": "markdown",
   "metadata": {},
   "source": [
    "### Let's create a dictionary according to morse code ###"
   ]
  },
  {
   "cell_type": "code",
   "execution_count": 1,
   "metadata": {},
   "outputs": [],
   "source": [
    "dictionary={' ': '0', 'a': '12', 'b': '2111', 'c': '2121', 'd': '211', 'e': '1', 'f': '1121',\n",
    "            'g': '221', 'h': '1111', 'i': '11', 'j': '1222', 'k': '212', 'l': '1211', 'm': '22',\n",
    "            'n': '21', 'o': '222', 'p': '1221', 'q': '2212', 'r': '121', 's': '111', 't': '2',\n",
    "            'u': '112', 'v': '1112', 'w': '122', 'x': '2112', 'y': '2122', 'z': '2211', '': '', \n",
    "            '0': '22222', '1': '12222', '2': '11222', '3': '11122', '4': '11112', '5': '11111', \n",
    "            '6': '21111', '7': '22111', '8': '22211', '9': '22221', '&': '12111', \"'\": '122221', \n",
    "            '@': '122121', ')': '212212', '(': '21221', ':': '222111', ',': '221122', '=': '21112',\n",
    "            '!': '212122', '.': '121212', '-': '211112', '+': '12121', '\"': '121121', '?': '112211',\n",
    "            '/': '21121'}"
   ]
  },
  {
   "cell_type": "markdown",
   "metadata": {},
   "source": [
    "### Dictionary for decoding ###\n",
    "We inverse the keys and value of the above dictionary to be used for decoding the number string back to text."
   ]
  },
  {
   "cell_type": "code",
   "execution_count": 2,
   "metadata": {},
   "outputs": [],
   "source": [
    "inv_dictionary = {v: k for k, v in dictionary.items()}"
   ]
  },
  {
   "cell_type": "markdown",
   "metadata": {},
   "source": [
    "### Here is the encoder function"
   ]
  },
  {
   "cell_type": "code",
   "execution_count": 3,
   "metadata": {},
   "outputs": [],
   "source": [
    "def trinary_encoder(inputs):\n",
    "    string_lower=str(inputs).lower()\n",
    "    output_string=''\n",
    "    for s in string_lower:\n",
    "        output_string=output_string+str(dictionary[s])+'0'\n",
    "    output_string=output_string[:-1]\n",
    "    return output_string"
   ]
  },
  {
   "cell_type": "code",
   "execution_count": 4,
   "metadata": {},
   "outputs": [],
   "source": [
    "def trinary_decoder(inputs):\n",
    "    string_input=str(inputs)\n",
    "    string_output=''\n",
    "    tmp=''\n",
    "    for i in range(len(string_input)):\n",
    "        \n",
    "        if string_input[i]!='0':\n",
    "            tmp += string_input[i]\n",
    "            \n",
    "        else:\n",
    "            \n",
    "            string_output +=inv_dictionary[tmp]\n",
    "            tmp=''\n",
    "            if string_input[i+1:i+3]=='00':\n",
    "                if string_input[i+3]!='0':\n",
    "                    string_output+=' '\n",
    "                else:\n",
    "                    None\n",
    "            else:\n",
    "                None\n",
    "    string_output+=inv_dictionary[tmp]\n",
    "    return string_output"
   ]
  },
  {
   "cell_type": "code",
   "execution_count": 5,
   "metadata": {},
   "outputs": [
    {
     "name": "stdout",
     "output_type": "stream",
     "text": [
      "2011110110111000110111000120002010111020002201201110111012022101\n"
     ]
    }
   ],
   "source": [
    "print(trinary_encoder('this is a test massage'))"
   ]
  },
  {
   "cell_type": "code",
   "execution_count": 6,
   "metadata": {},
   "outputs": [
    {
     "name": "stdout",
     "output_type": "stream",
     "text": [
      "this is a test massage\n"
     ]
    }
   ],
   "source": [
    "print(trinary_decoder(trinary_encoder(\"this is a test massage\")))"
   ]
  },
  {
   "cell_type": "markdown",
   "metadata": {},
   "source": [
    "### Converting trinary digit to the morse ###\n",
    "\n",
    "We can very easily convert our trinary digit string to morse signal without any predefined dictionary"
   ]
  },
  {
   "cell_type": "code",
   "execution_count": 7,
   "metadata": {},
   "outputs": [],
   "source": [
    "def trinary2morse(inputs,separator=' / '):\n",
    "    input_string=str(inputs)\n",
    "    separator_string=str(separator)\n",
    "    output_string=''\n",
    "    for i in range(len(input_string)):\n",
    "        if input_string[i]=='1':\n",
    "            output_string+='.'\n",
    "        elif input_string[i]=='2':\n",
    "            output_string+='-'\n",
    "        elif input_string[i]=='0':\n",
    "            if input_string[i+1:i+3]=='00':\n",
    "                if input_string[i+3]!='0':\n",
    "                    output_string+=separator_string\n",
    "                else:\n",
    "                    None\n",
    "            else:\n",
    "                output_string+=' '\n",
    "        else:\n",
    "            None\n",
    "    return output_string\n",
    "        \n",
    "            "
   ]
  },
  {
   "cell_type": "markdown",
   "metadata": {},
   "source": [
    "### We can also convert the morse code into trinary ###"
   ]
  },
  {
   "cell_type": "code",
   "execution_count": 8,
   "metadata": {},
   "outputs": [],
   "source": [
    "def morse2trinary(inputs,separator='/'):\n",
    "    input_string=str(inputs)\n",
    "    separator_string=str(separator)\n",
    "    output_string=''\n",
    "    for i in range(len(input_string)):\n",
    "        if input_string[i]=='.':\n",
    "            output_string+='1'\n",
    "        elif input_string[i]=='-':\n",
    "            output_string+='2'\n",
    "        elif input_string[i]==separator:\n",
    "            output_string+='0'\n",
    "        elif input_string[i]==' ':\n",
    "            if input_string[i+1]!=' ':\n",
    "                output_string+='0'\n",
    "            else:\n",
    "                None\n",
    "        else:\n",
    "            None\n",
    "    return output_string"
   ]
  },
  {
   "cell_type": "code",
   "execution_count": 9,
   "metadata": {},
   "outputs": [],
   "source": [
    "def test(massage):\n",
    "\n",
    "    trinary_massage=trinary_encoder(massage)\n",
    "    print(\"Trinary massage: \",trinary_massage)\n",
    "\n",
    "    morse_string=trinary2morse(trinary_massage)\n",
    "    print(\"Morse string: \", morse_string)\n",
    "\n",
    "    back_trinary=morse2trinary(morse_string)\n",
    "    print(\"Reverse trinary: \", back_trinary)\n",
    "\n",
    "    back_string=trinary_decoder(back_trinary)\n",
    "    print(\"Reverse text:\", back_string)\n",
    "\n",
    "    if str(massage).lower()==back_string and trinary_massage==back_trinary:\n",
    "        print(\"Algorithm is working successfully\")\n",
    "    else:\n",
    "        print(\"Something is wrong in the algorithm\")\n",
    "    return None"
   ]
  },
  {
   "cell_type": "code",
   "execution_count": 14,
   "metadata": {},
   "outputs": [
    {
     "name": "stdout",
     "output_type": "stream",
     "text": [
      "trinary massage:  11202102011012110002011110102122000211101021210222022010002121022202101110212101102220112011100020111101021220001220110121101211000210101112010121000121010211101012110221122000120210211000112021020110121100012011210201012100020111101021220001111012011120100012101021110101211012110102110002011110102122000212101202102102220200021110102121022202201000212102220210111021210110222011201110121212\n",
      "morse string:  ..- -. - .. .-.. /   - .... . -.-- /   -... . -.-. --- -- . /   -.-. --- -. ... -.-. .. --- ..- ... /   - .... . -.-- /   .-- .. .-.. .-.. /   -. . ...- . .-. /   .-. . -... . .-.. --..-- /   .- -. -.. /   ..- -. - .. .-.. /   .- ..-. - . .-. /   - .... . -.-- /   .... .- ...- . /   .-. . -... . .-.. .-.. . -.. /   - .... . -.-- /   -.-. .- -. -. --- - /   -... . -.-. --- -- . /   -.-. --- -. ... -.-. .. --- ..- ... .-.-.-\n",
      "reverse trinary:  11202102011012110002011110102122000211101021210222022010002121022202101110212101102220112011100020111101021220001220110121101211000210101112010121000121010211101012110221122000120210211000112021020110121100012011210201012100020111101021220001111012011120100012101021110101211012110102110002011110102122000212101202102102220200021110102121022202201000212102220210111021210110222011201110121212\n",
      "reverse text: until they become conscious they will never rebel, and until after they have rebelled they cannot become conscious.\n",
      "Algorithm is working successfully\n"
     ]
    }
   ],
   "source": [
    "test(\"Until they become conscious they will never rebel, and until after they have rebelled they cannot become conscious.\")"
   ]
  },
  {
   "cell_type": "markdown",
   "metadata": {},
   "source": [
    "### If you get key error, add that character to the dictionary with some unique code, (if there is a international morse code for that character add that), and try again ##"
   ]
  },
  {
   "cell_type": "code",
   "execution_count": null,
   "metadata": {},
   "outputs": [],
   "source": []
  }
 ],
 "metadata": {
  "kernelspec": {
   "display_name": "Python 3",
   "language": "python",
   "name": "python3"
  },
  "language_info": {
   "codemirror_mode": {
    "name": "ipython",
    "version": 3
   },
   "file_extension": ".py",
   "mimetype": "text/x-python",
   "name": "python",
   "nbconvert_exporter": "python",
   "pygments_lexer": "ipython3",
   "version": "3.7.1"
  }
 },
 "nbformat": 4,
 "nbformat_minor": 2
}
