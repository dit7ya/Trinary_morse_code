{
 "cells": [
  {
   "cell_type": "markdown",
   "metadata": {},
   "source": [
    "# Morse Code based text encoder and decoder\n",
    "\n",
    "We will not using anything other than default python 3\n",
    "\n",
    "## The dictonary\n",
    "\n",
    "We know that morse code is a trinary encode.It's not a binary method as it has to taken account of the diffence of gap between each letter and each sentence in addition to the short and long signal.\n",
    "\n",
    "So, we can use a trinary system to encode. we replace the dots and dash with numbers.\n",
    "\n",
    "### Rules ##\n",
    "\n",
    "* We replace the dot with 1 and dash with 2\n",
    "\n",
    "* each character is seperated by a zero from it's previous and next characters.\n",
    "* in case of word separation, we add another zero. Which makes a separation of word three zeros\n",
    "\n",
    "\n"
   ]
  },
  {
   "cell_type": "code",
   "execution_count": 198,
   "metadata": {},
   "outputs": [],
   "source": [
    "dictionary={\n",
    "            'a':12,  ' ':0,\n",
    "            'b':2111,\n",
    "            'c':2121,\n",
    "            'd':211,\n",
    "            'e':1,\n",
    "            'f':1121,\n",
    "            'g':221,\n",
    "            'h':1111,\n",
    "            'i':11,\n",
    "            'j':1222,\n",
    "            'k':212,\n",
    "            'l':1211,\n",
    "            'm':22,\n",
    "            'n':21,\n",
    "            'o':222,\n",
    "            'p':1221,\n",
    "            'q':2212,\n",
    "            'r':121,\n",
    "            's':111,\n",
    "            't':2,\n",
    "            'u':112,\n",
    "            'v':1112,\n",
    "            'w':122,\n",
    "            'x':2112,\n",
    "            'y':2122,\n",
    "            'z':2211,\n",
    "            '':''\n",
    "            }"
   ]
  },
  {
   "cell_type": "code",
   "execution_count": 199,
   "metadata": {},
   "outputs": [],
   "source": [
    "inv_dictionary = {str(v): k for k, v in dictionary.items()}"
   ]
  },
  {
   "cell_type": "code",
   "execution_count": 200,
   "metadata": {},
   "outputs": [],
   "source": [
    "def encoder(inputs):\n",
    "    string_lower=str(inputs).lower()\n",
    "    output_string='0'\n",
    "    for s in string_lower:\n",
    "        output_string=output_string+str(dictionary[s])+'0'\n",
    "    #output_string+='00000000000'\n",
    "    return output_string"
   ]
  },
  {
   "cell_type": "code",
   "execution_count": 204,
   "metadata": {},
   "outputs": [],
   "source": [
    "def decoder(inputs):\n",
    "    string_input=str(inputs)\n",
    "    string_output=''\n",
    "    tmp=''\n",
    "    for i in range(len(string_input)):\n",
    "        \n",
    "        if string_input[i]!='0':\n",
    "            tmp += string_input[i]\n",
    "            \n",
    "        else:\n",
    "            \n",
    "            string_output +=inv_dictionary[tmp]\n",
    "            tmp=''\n",
    "            if string_input[i+1:i+3]=='00':\n",
    "                if string_input[i+3]!='0':\n",
    "                    string_output+=' '\n",
    "                else:\n",
    "                    print(\"unexpected end of massage\")\n",
    "                    break\n",
    "            else:\n",
    "                None\n",
    "    return string_output"
   ]
  },
  {
   "cell_type": "code",
   "execution_count": 205,
   "metadata": {},
   "outputs": [
    {
     "name": "stdout",
     "output_type": "stream",
     "text": [
      "01220120211011021201120121000121012011110220120210\n"
     ]
    }
   ],
   "source": [
    "print(encoder('Wadikur Rahman'))"
   ]
  },
  {
   "cell_type": "code",
   "execution_count": 206,
   "metadata": {},
   "outputs": [
    {
     "name": "stdout",
     "output_type": "stream",
     "text": [
      "wadikur rahman\n"
     ]
    }
   ],
   "source": [
    "print(decoder(encoder(\"Wadikur Rahman\")))"
   ]
  },
  {
   "cell_type": "code",
   "execution_count": null,
   "metadata": {},
   "outputs": [],
   "source": []
  },
  {
   "cell_type": "code",
   "execution_count": null,
   "metadata": {},
   "outputs": [],
   "source": []
  }
 ],
 "metadata": {
  "kernelspec": {
   "display_name": "Python 3",
   "language": "python",
   "name": "python3"
  },
  "language_info": {
   "codemirror_mode": {
    "name": "ipython",
    "version": 3
   },
   "file_extension": ".py",
   "mimetype": "text/x-python",
   "name": "python",
   "nbconvert_exporter": "python",
   "pygments_lexer": "ipython3",
   "version": "3.7.1"
  }
 },
 "nbformat": 4,
 "nbformat_minor": 2
}
