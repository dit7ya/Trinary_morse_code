{
 "cells": [
  {
   "cell_type": "code",
   "execution_count": 19,
   "metadata": {},
   "outputs": [
    {
     "ename": "ImportError",
     "evalue": "cannot import name 'trinary_decoder'",
     "output_type": "error",
     "traceback": [
      "\u001b[1;31m---------------------------------------------------------------------------\u001b[0m",
      "\u001b[1;31mImportError\u001b[0m                               Traceback (most recent call last)",
      "\u001b[1;32m<ipython-input-19-aa1b908de5eb>\u001b[0m in \u001b[0;36m<module>\u001b[1;34m\u001b[0m\n\u001b[1;32m----> 1\u001b[1;33m \u001b[1;32mfrom\u001b[0m \u001b[0mtrinary_tools\u001b[0m \u001b[1;32mimport\u001b[0m \u001b[0mtrinary_encoder\u001b[0m\u001b[1;33m,\u001b[0m \u001b[0mtrinary_decoder\u001b[0m\u001b[1;33m\u001b[0m\u001b[1;33m\u001b[0m\u001b[0m\n\u001b[0m\u001b[0;32m      2\u001b[0m \u001b[1;33m\u001b[0m\u001b[0m\n\u001b[0;32m      3\u001b[0m \u001b[1;33m\u001b[0m\u001b[0m\n\u001b[0;32m      4\u001b[0m \u001b[1;33m\u001b[0m\u001b[0m\n\u001b[0;32m      5\u001b[0m \u001b[0mprint\u001b[0m\u001b[1;33m(\u001b[0m\u001b[1;34m\"Welcome to the Trinary morse endcoder.\"\u001b[0m\u001b[1;33m)\u001b[0m\u001b[1;33m\u001b[0m\u001b[1;33m\u001b[0m\u001b[0m\n",
      "\u001b[1;31mImportError\u001b[0m: cannot import name 'trinary_decoder'"
     ]
    }
   ],
   "source": [
    "from trinary_tools import trinary_encoder, trinary_decoder\n",
    "\n",
    "\n",
    "\n",
    "print(\"Welcome to the Trinary morse endcoder.\")\n",
    "function=str(input(\"Enter what you want to do: \"))\n",
    "function=function.lower()\n",
    "user_input=str(input(\"Enter the text: \"))\n",
    "def encoder(user_input,function):\n",
    "    if function=='a':\n",
    "        return trinary_encoder(user_input)\n",
    "    elif function=='b':\n",
    "        return trinary_decoder(user_input)\n",
    "    else:\n",
    "        return None\n",
    "a=encoder(user_input,function)\n",
    "print(\"Trinary_encode: \",a)"
   ]
  },
  {
   "cell_type": "code",
   "execution_count": 7,
   "metadata": {},
   "outputs": [
    {
     "ename": "NameError",
     "evalue": "name 'test' is not defined",
     "output_type": "error",
     "traceback": [
      "\u001b[1;31m---------------------------------------------------------------------------\u001b[0m",
      "\u001b[1;31mNameError\u001b[0m                                 Traceback (most recent call last)",
      "\u001b[1;32m<ipython-input-7-38420ee867f3>\u001b[0m in \u001b[0;36m<module>\u001b[1;34m\u001b[0m\n\u001b[1;32m----> 1\u001b[1;33m \u001b[0mb\u001b[0m\u001b[1;33m=\u001b[0m\u001b[0mtrinary_encoder\u001b[0m\u001b[1;33m(\u001b[0m\u001b[0mtest\u001b[0m\u001b[1;33m)\u001b[0m\u001b[1;33m\u001b[0m\u001b[1;33m\u001b[0m\u001b[0m\n\u001b[0m",
      "\u001b[1;31mNameError\u001b[0m: name 'test' is not defined"
     ]
    }
   ],
   "source": [
    "b=trinary_encoder(test)"
   ]
  },
  {
   "cell_type": "code",
   "execution_count": 8,
   "metadata": {},
   "outputs": [
    {
     "name": "stdout",
     "output_type": "stream",
     "text": [
      "enterthis is a test\n"
     ]
    }
   ],
   "source": [
    "test_string=str(input(\"enter\"))"
   ]
  },
  {
   "cell_type": "code",
   "execution_count": 9,
   "metadata": {},
   "outputs": [
    {
     "data": {
      "text/plain": [
       "'201111011011100011011100012000201011102'"
      ]
     },
     "execution_count": 9,
     "metadata": {},
     "output_type": "execute_result"
    }
   ],
   "source": [
    "encoder(test_string,1)"
   ]
  },
  {
   "cell_type": "code",
   "execution_count": 15,
   "metadata": {},
   "outputs": [],
   "source": [
    "dictionary={' ': '0', 'a': '12', 'b': '2111', 'c': '2121', 'd': '211', 'e': '1', 'f': '1121',\n",
    "            'g': '221', 'h': '1111', 'i': '11', 'j': '1222', 'k': '212', 'l': '1211', 'm': '22',\n",
    "            'n': '21', 'o': '222', 'p': '1221', 'q': '2212', 'r': '121', 's': '111', 't': '2',\n",
    "            'u': '112', 'v': '1112', 'w': '122', 'x': '2112', 'y': '2122', 'z': '2211', '': '', \n",
    "            '0': '22222', '1': '12222', '2': '11222', '3': '11122', '4': '11112', '5': '11111', \n",
    "            '6': '21111', '7': '22111', '8': '22211', '9': '22221', '&': '12111', \"'\": '122221', \n",
    "            '@': '122121', ')': '212212', '(': '21221', ':': '222111', ',': '221122', '=': '21112',\n",
    "            '!': '212122', '.': '121212', '-': '211112', '+': '12121', '\"': '121121', '?': '112211',\n",
    "            '/': '21121'}"
   ]
  },
  {
   "cell_type": "code",
   "execution_count": 16,
   "metadata": {},
   "outputs": [],
   "source": [
    "inv_dictionary={a:b for b,a in dictionary.items()}"
   ]
  },
  {
   "cell_type": "code",
   "execution_count": 17,
   "metadata": {},
   "outputs": [
    {
     "name": "stdout",
     "output_type": "stream",
     "text": [
      "{'0': ' ', '12': 'a', '2111': 'b', '2121': 'c', '211': 'd', '1': 'e', '1121': 'f', '221': 'g', '1111': 'h', '11': 'i', '1222': 'j', '212': 'k', '1211': 'l', '22': 'm', '21': 'n', '222': 'o', '1221': 'p', '2212': 'q', '121': 'r', '111': 's', '2': 't', '112': 'u', '1112': 'v', '122': 'w', '2112': 'x', '2122': 'y', '2211': 'z', '': '', '22222': '0', '12222': '1', '11222': '2', '11122': '3', '11112': '4', '11111': '5', '21111': '6', '22111': '7', '22211': '8', '22221': '9', '12111': '&', '122221': \"'\", '122121': '@', '212212': ')', '21221': '(', '222111': ':', '221122': ',', '21112': '=', '212122': '!', '121212': '.', '211112': '-', '12121': '+', '121121': '\"', '112211': '?', '21121': '/'}\n"
     ]
    }
   ],
   "source": [
    "print(inv_dictionary)"
   ]
  },
  {
   "cell_type": "code",
   "execution_count": null,
   "metadata": {},
   "outputs": [],
   "source": []
  }
 ],
 "metadata": {
  "kernelspec": {
   "display_name": "Python 3",
   "language": "python",
   "name": "python3"
  },
  "language_info": {
   "codemirror_mode": {
    "name": "ipython",
    "version": 3
   },
   "file_extension": ".py",
   "mimetype": "text/x-python",
   "name": "python",
   "nbconvert_exporter": "python",
   "pygments_lexer": "ipython3",
   "version": "3.6.7"
  }
 },
 "nbformat": 4,
 "nbformat_minor": 2
}
