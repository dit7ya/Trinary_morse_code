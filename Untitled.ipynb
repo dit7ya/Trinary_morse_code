{
 "cells": [
  {
   "cell_type": "code",
   "execution_count": null,
   "metadata": {},
   "outputs": [],
   "source": [
    "def trinary_encoder(inputs):\n",
    "    string_lower=str(inputs).lower()\n",
    "    output_string=''\n",
    "    dictionary={' ': '0', 'a': '12', 'b': '2111', 'c': '2121', 'd': '211', 'e': '1', 'f': '1121',\n",
    "            'g': '221', 'h': '1111', 'i': '11', 'j': '1222', 'k': '212', 'l': '1211', 'm': '22',\n",
    "            'n': '21', 'o': '222', 'p': '1221', 'q': '2212', 'r': '121', 's': '111', 't': '2',\n",
    "            'u': '112', 'v': '1112', 'w': '122', 'x': '2112', 'y': '2122', 'z': '2211', '': '', \n",
    "            '0': '22222', '1': '12222', '2': '11222', '3': '11122', '4': '11112', '5': '11111', \n",
    "            '6': '21111', '7': '22111', '8': '22211', '9': '22221', '&': '12111', \"'\": '122221', \n",
    "            '@': '122121', ')': '212212', '(': '21221', ':': '222111', ',': '221122', '=': '21112',\n",
    "            '!': '212122', '.': '121212', '-': '211112', '+': '12121', '\"': '121121', '?': '112211',\n",
    "            '/': '21121'}\n",
    "    for s in string_lower:\n",
    "        output_string=output_string+str(dictionary[s])+'0'\n",
    "    output_string=output_string[:-1]\n",
    "    return output_string\n",
    "\n",
    "def trinary_decoder(inputs):\n",
    "    string_input=str(inputs)\n",
    "    string_output=''\n",
    "    tmp=''\n",
    "    inv_dictionary={'0': ' ', '12': 'a', '2111': 'b', '2121': 'c', '211': 'd', '1': 'e', '1121': 'f', '221': 'g', '1111': 'h',\n",
    "                    '11': 'i',         '1222': 'j',          '212': 'k', '1211': 'l', '22': 'm', '21': 'n', '222': 'o',\n",
    "                    '1221': 'p', '2212': 'q', '121': 'r', '111': 's',  '2': 't', '112': 'u', '1112': 'v', '122': 'w',\n",
    "                    '2112': 'x', '2122': 'y', '2211': 'z', '': '', '22222': '0', '12222': '1',        '11222': '2',\n",
    "                    '11122': '3',              '11112': '4', '11111': '5', '21111': '6', '22111': '7', '22211': '8',\n",
    "                    '22221': '9',   '12111': '&', '122221': \"'\", '122121': '@',  '212212': ')', \n",
    "                    '21221': '(', '222111': ':', '221122': ',', '21112': '=',          '212122': '!', \n",
    "                    '121212': '.', '211112': '-', '12121':               '+', '121121': '\"', '112211': '?',\n",
    "                    '21121': '/'}\n",
    "    for i in range(len(string_input)):\n",
    "        \n",
    "        if string_input[i]!='0':\n",
    "            tmp += string_input[i]\n",
    "            \n",
    "        else:\n",
    "            \n",
    "            string_output +=inv_dictionary[tmp]\n",
    "            tmp=''\n",
    "            if string_input[i+1:i+3]=='00':\n",
    "                if string_input[i+3]!='0':\n",
    "                    string_output+=' '\n",
    "                else:\n",
    "                    None\n",
    "            else:\n",
    "                None\n",
    "    string_output+=inv_dictionary[tmp]\n",
    "    return string_output\n",
    "\n",
    "\n",
    "def trinary2morse(inputs,separator=' / '):\n",
    "    input_string=str(inputs)\n",
    "    separator_string=str(separator)\n",
    "    output_string=''\n",
    "    for i in range(len(input_string)):\n",
    "        if input_string[i]=='1':\n",
    "            output_string+='.'\n",
    "        elif input_string[i]=='2':\n",
    "            output_string+='-'\n",
    "        elif input_string[i]=='0':\n",
    "            if input_string[i+1:i+3]=='00':\n",
    "                if input_string[i+3]!='0':\n",
    "                    output_string+=separator_string\n",
    "                else:\n",
    "                    None\n",
    "            else:\n",
    "                output_string+=' '\n",
    "        else:\n",
    "            None\n",
    "    return output_string\n",
    "\n",
    "\n",
    "def morse2trinary(inputs,separator='/'):\n",
    "    input_string=str(inputs)\n",
    "    separator_string=str(separator)\n",
    "    output_string=''\n",
    "    for i in range(len(input_string)):\n",
    "        if input_string[i]=='.':\n",
    "            output_string+='1'\n",
    "        elif input_string[i]=='-':\n",
    "            output_string+='2'\n",
    "        elif input_string[i]==separator:\n",
    "            output_string+='0'\n",
    "        elif input_string[i]==' ':\n",
    "            if input_string[i+1]!=' ':\n",
    "                output_string+='0'\n",
    "            else:\n",
    "                None\n",
    "        else:\n",
    "            None\n",
    "    return output_string\n",
    "\n",
    "\n",
    "\n",
    "print(\"Welcome to the Trinary morse endcoder.\")\n",
    "function=str(input(\"Enter what you want to do: \"))\n",
    "function=function.lower()\n",
    "user_input=str(input(\"Enter the text: \"))\n",
    "def main_function(user_input,function):\n",
    "    if function=='a':\n",
    "        return trinary_encoder(user_input)\n",
    "    elif function=='b':\n",
    "        return trinary_decoder(user_input)\n",
    "    elif function=='c':\n",
    "        return trinary2morse(user_input)\n",
    "    elif function=='d':\n",
    "        return morse2trinary(user_input)\n",
    "    elif function=='e':\n",
    "        return trinary2morse(trinary_encoder(user_input))\n",
    "    elif function=='f':\n",
    "        return trinary_decoder(morse2trinary(user_input))\n",
    "    else:\n",
    "        return None\n",
    "output=main_function(user_input,function)\n",
    "print(output)"
   ]
  },
  {
   "cell_type": "code",
   "execution_count": 2,
   "metadata": {},
   "outputs": [
    {
     "ename": "NameError",
     "evalue": "name 'test' is not defined",
     "output_type": "error",
     "traceback": [
      "\u001b[1;31m---------------------------------------------------------------------------\u001b[0m",
      "\u001b[1;31mNameError\u001b[0m                                 Traceback (most recent call last)",
      "\u001b[1;32m<ipython-input-2-38420ee867f3>\u001b[0m in \u001b[0;36m<module>\u001b[1;34m\u001b[0m\n\u001b[1;32m----> 1\u001b[1;33m \u001b[0mb\u001b[0m\u001b[1;33m=\u001b[0m\u001b[0mtrinary_encoder\u001b[0m\u001b[1;33m(\u001b[0m\u001b[0mtest\u001b[0m\u001b[1;33m)\u001b[0m\u001b[1;33m\u001b[0m\u001b[1;33m\u001b[0m\u001b[0m\n\u001b[0m",
      "\u001b[1;31mNameError\u001b[0m: name 'test' is not defined"
     ]
    }
   ],
   "source": [
    "b=trinary_encoder(test)"
   ]
  },
  {
   "cell_type": "code",
   "execution_count": 3,
   "metadata": {},
   "outputs": [
    {
     "name": "stdout",
     "output_type": "stream",
     "text": [
      "enterthis is a test\n"
     ]
    }
   ],
   "source": [
    "test_string=str(input(\"enter\"))"
   ]
  },
  {
   "cell_type": "code",
   "execution_count": 6,
   "metadata": {},
   "outputs": [
    {
     "name": "stdout",
     "output_type": "stream",
     "text": [
      "201111011011100011011100012000201011102\n"
     ]
    }
   ],
   "source": [
    "print(encoder(test_string,'a'))"
   ]
  },
  {
   "cell_type": "code",
   "execution_count": null,
   "metadata": {},
   "outputs": [],
   "source": [
    "dictionary={' ': '0', 'a': '12', 'b': '2111', 'c': '2121', 'd': '211', 'e': '1', 'f': '1121',\n",
    "            'g': '221', 'h': '1111', 'i': '11', 'j': '1222', 'k': '212', 'l': '1211', 'm': '22',\n",
    "            'n': '21', 'o': '222', 'p': '1221', 'q': '2212', 'r': '121', 's': '111', 't': '2',\n",
    "            'u': '112', 'v': '1112', 'w': '122', 'x': '2112', 'y': '2122', 'z': '2211', '': '', \n",
    "            '0': '22222', '1': '12222', '2': '11222', '3': '11122', '4': '11112', '5': '11111', \n",
    "            '6': '21111', '7': '22111', '8': '22211', '9': '22221', '&': '12111', \"'\": '122221', \n",
    "            '@': '122121', ')': '212212', '(': '21221', ':': '222111', ',': '221122', '=': '21112',\n",
    "            '!': '212122', '.': '121212', '-': '211112', '+': '12121', '\"': '121121', '?': '112211',\n",
    "            '/': '21121'}"
   ]
  },
  {
   "cell_type": "code",
   "execution_count": null,
   "metadata": {},
   "outputs": [],
   "source": [
    "inv_dictionary={a:b for b,a in dictionary.items()}"
   ]
  },
  {
   "cell_type": "code",
   "execution_count": null,
   "metadata": {},
   "outputs": [],
   "source": [
    "print(inv_dictionary)"
   ]
  },
  {
   "cell_type": "code",
   "execution_count": 1,
   "metadata": {},
   "outputs": [
    {
     "name": "stdout",
     "output_type": "stream",
     "text": [
      "x has something\n",
      "x has something\n",
      "x has something\n",
      "x has something\n",
      "x has something\n"
     ]
    }
   ],
   "source": [
    "x='xyx'\n",
    "counter=0\n",
    "while x:\n",
    "    print(\"x has something\")\n",
    "    counter+=1\n",
    "    if counter==5:\n",
    "        x=None\n",
    "    "
   ]
  },
  {
   "cell_type": "code",
   "execution_count": null,
   "metadata": {},
   "outputs": [],
   "source": []
  }
 ],
 "metadata": {
  "kernelspec": {
   "display_name": "Python 3",
   "language": "python",
   "name": "python3"
  },
  "language_info": {
   "codemirror_mode": {
    "name": "ipython",
    "version": 3
   },
   "file_extension": ".py",
   "mimetype": "text/x-python",
   "name": "python",
   "nbconvert_exporter": "python",
   "pygments_lexer": "ipython3",
   "version": "3.6.7"
  }
 },
 "nbformat": 4,
 "nbformat_minor": 2
}
